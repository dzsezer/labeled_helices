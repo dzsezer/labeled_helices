{
 "cells": [
  {
   "cell_type": "markdown",
   "id": "f4feedbd",
   "metadata": {},
   "source": [
    "# 1. Structural analysis"
   ]
  },
  {
   "cell_type": "code",
   "execution_count": 1,
   "id": "0c3ea625",
   "metadata": {},
   "outputs": [],
   "source": [
    "from utils import Helix\n",
    "from utils_peldor import labels_dist"
   ]
  },
  {
   "cell_type": "code",
   "execution_count": 2,
   "id": "b2e97624",
   "metadata": {},
   "outputs": [],
   "source": [
    "import py3Dmol\n",
    "import matplotlib.pyplot as plt\n",
    "from matplotlib.ticker import MaxNLocator"
   ]
  },
  {
   "cell_type": "code",
   "execution_count": 3,
   "id": "13082bda",
   "metadata": {},
   "outputs": [],
   "source": [
    "# clear contents of scratch directory \n",
    "! rm pdbs/*.*"
   ]
  },
  {
   "cell_type": "markdown",
   "id": "a50124f8",
   "metadata": {},
   "source": [
    "### Experimental PELDOR distances"
   ]
  },
  {
   "cell_type": "code",
   "execution_count": 4,
   "id": "a99cc7de",
   "metadata": {},
   "outputs": [],
   "source": [
    "#Marko  JACS 2011 (label=1)\n",
    "exp_id_dna   = [4,5,6,7,8,9,10,11,12,13,14]\n",
    "exp_dist_dna = [20.1,23.8,25.4,26.6,28.4,30,32.2,34.1,38.3,42.9,45.0]\n",
    "\n",
    "#Halbmair Chem Science 2016 (label=3)\n",
    "exp_id_rna_long   = [10,15,18,22,25,28] #16,24,28,31\n",
    "exp_dist_rna_long = [30.7,43.2,53.3,63.2,73.,81.]\n",
    "\n",
    "#Max unpublished (label=1)\n",
    "exp_id_rna   = [7,8,9,10,11,12,13,14]\n",
    "exp_dist_rna = [21.2,23.2,26.6,28.7,31.0,33.6,36.2,38.1]\n",
    "\n",
    "#label = 2\n",
    "exp_id_dna_2 = [8]\n",
    "exp_dist_dna_2 = [31.2]\n",
    "\n",
    "exp_id_rna_2 = [11]\n",
    "exp_dist_rna_2 = [30.3]"
   ]
  },
  {
   "cell_type": "markdown",
   "id": "a21c47b9",
   "metadata": {},
   "source": [
    "### Provide sequence of the first helix strand\n",
    "A,C,G,T: regular bases\n",
    "\n",
    "c, g   : spin label "
   ]
  },
  {
   "cell_type": "code",
   "execution_count": 5,
   "id": "1721c8bb",
   "metadata": {},
   "outputs": [],
   "source": [
    "#Marko JACS 2011 and Max unpublished (label=1)\n",
    "sequence_evn = 'GTcAGTCgCgCgCgCgCATC'\n",
    "sequence_odd = 'GTcAGTgCgCgCgCgCgATC'\n",
    "\n",
    "#Max unpublished (label=1)\n",
    "sequence_evn_rna = sequence_evn.replace('T','U')\n",
    "sequence_odd_rna = sequence_odd.replace('T','U')\n",
    "\n",
    "#Halbmair Chem Science 2016 (label=3)\n",
    "sequence_6 = 'GACGUcGGAAGACGUcAGUAGACcUCGcAUcGU'\n",
    "#sequence_3 = 'GAcGUCGGAAGACGUcAGUAGACCUCGCAUcGU'\n",
    "sequence_3 = 'ACgAUGCGAGGUCUACUgACGUCUUCCGACgUC'"
   ]
  },
  {
   "cell_type": "markdown",
   "id": "c2cafec8",
   "metadata": {},
   "source": [
    "## A. dsDNA\n",
    "### Select helix type, base step parameters and base pair flatness"
   ]
  },
  {
   "cell_type": "code",
   "execution_count": 6,
   "id": "5c85b9fe",
   "metadata": {},
   "outputs": [],
   "source": [
    "na_type    = 'DNA' # 'DNA' or 'RNA'\n",
    "helix_form = 'B'   # 'B' or 'A' or 'Apr'\n",
    "bs_param   = 'seq' # 'avg' or 'seq'\n",
    "\n",
    "dna_type = na_type + bs_param + helix_form\n",
    "\n",
    "label      = 1     # 1 or 2 or 3\n",
    "\n",
    "bp_flat    = False # True or False"
   ]
  },
  {
   "cell_type": "markdown",
   "id": "fbf5adce",
   "metadata": {},
   "source": [
    "### Make the even and odd DNA helices"
   ]
  },
  {
   "cell_type": "code",
   "execution_count": 7,
   "id": "adbe2902",
   "metadata": {},
   "outputs": [
    {
     "name": "stdout",
     "output_type": "stream",
     "text": [
      "[3.3785   3.388867 3.367144 3.36626  3.3785   3.388867 3.356298 3.400007\n",
      " 3.356298 3.400007 3.356298 3.400007 3.356298 3.400007 3.356298 3.400007\n",
      " 3.367144 3.366731 3.388867]\n",
      "3.3774948513984024\n",
      "[3.3785   3.388867 3.367144 3.36626  3.3785   3.367126 3.400007 3.356298\n",
      " 3.400007 3.356298 3.400007 3.356298 3.400007 3.356298 3.400007 3.356298\n",
      " 3.388748 3.366731 3.388867]\n",
      "3.3774876650189363\n"
     ]
    }
   ],
   "source": [
    "helix_dna_evn = Helix(sequence_evn, dna_type, label, True)\n",
    "helix_dna_odd = Helix(sequence_odd, dna_type, label, True)\n",
    "if not bp_flat:\n",
    "    helix_dna_evn.unflat()\n",
    "    helix_dna_odd.unflat()"
   ]
  },
  {
   "cell_type": "markdown",
   "id": "279d1ce9",
   "metadata": {},
   "source": [
    "### Visualize one of the generated helices"
   ]
  },
  {
   "cell_type": "code",
   "execution_count": null,
   "id": "cd41d6f0",
   "metadata": {},
   "outputs": [],
   "source": [
    "#!jupyter labextension install jupyterlab_3dmol"
   ]
  },
  {
   "cell_type": "code",
   "execution_count": null,
   "id": "0b2f621f",
   "metadata": {},
   "outputs": [],
   "source": [
    "pdb_file = 'helix_dna_odd.pdb'\n",
    "helix_dna_odd.write_pdb(pdb_file)\n",
    "helix_dna_odd.write_axis_pdb()\n",
    "helix_dna_odd.write_center_pdb()\n",
    "\n",
    "#First we assign the py3Dmol.view as view\n",
    "view = py3Dmol.view()\n",
    "#read the PDB file\n",
    "view.addModel(open('pdbs/' + pdb_file, 'r').read(),'pdb')\n",
    "view.addModel(open('pdbs/axis.pdb', 'r').read(),'pdb')\n",
    "#view.addModel(open('pdbs/center.pdb', 'r').read(),'pdb')\n",
    "\n",
    "#Here we set the visualization style\n",
    "view.setStyle({'stick': {'color':'spectrum'}})\n",
    "#view.setStyle({'sphere': {'color':'spectrum'}})\n",
    "\n",
    "#Zooming into all visualized structures \n",
    "view.zoomTo()\n",
    "#And we finally visualize the structures using the command below\n",
    "view.show()"
   ]
  },
  {
   "cell_type": "markdown",
   "id": "8218dc55",
   "metadata": {},
   "source": [
    "### Get distances between each label and the first one and compare with PELDOR"
   ]
  },
  {
   "cell_type": "code",
   "execution_count": 8,
   "id": "1137ab11",
   "metadata": {},
   "outputs": [],
   "source": [
    "evn_NN, evn_OO, evn_NO, evn_ON, evn_id = labels_dist(helix_dna_evn)\n",
    "odd_NN, odd_OO, odd_NO, odd_ON, odd_id = labels_dist(helix_dna_odd)"
   ]
  },
  {
   "cell_type": "code",
   "execution_count": null,
   "id": "ed526bc6",
   "metadata": {},
   "outputs": [],
   "source": [
    "plt.plot(exp_id_dna,exp_dist_dna,'--*k',markersize=10,label=\"PELDOR\")\n",
    "\n",
    "plt.plot(evn_id,evn_NN,'bo',label='N-N')\n",
    "plt.plot(evn_id,evn_OO,'ro',label='O-O')\n",
    "plt.plot(evn_id,evn_NO,'co',label='N-O')\n",
    "plt.plot(evn_id,evn_ON,'go',label='O-N')\n",
    "plt.plot(odd_id,odd_NN,'bo')\n",
    "plt.plot(odd_id,odd_OO,'ro')\n",
    "plt.plot(odd_id,odd_NO,'co')\n",
    "plt.plot(odd_id,odd_ON,'go')\n",
    "\n",
    "#plt.plot(exp_id_dna_2,exp_dist_dna_2,'^k', label='C-dot')\n",
    "\n",
    "plt.xlabel(\"$\\Delta$ base pair\")\n",
    "plt.ylabel(\"Distance [A]\")\n",
    "title = f\"{helix_form}-{na_type}, Label:{label},  Flat:{bp_flat}\"\n",
    "plt.title(title)\n",
    "plt.ylim(15,50)\n",
    "plt.legend(frameon=False,loc=2);"
   ]
  },
  {
   "cell_type": "markdown",
   "id": "d1abbe73",
   "metadata": {},
   "source": [
    "## B. dsRNA of Halbmair et al."
   ]
  },
  {
   "cell_type": "code",
   "execution_count": 9,
   "id": "443517a5",
   "metadata": {},
   "outputs": [
    {
     "name": "stdout",
     "output_type": "stream",
     "text": [
      "[2.810848 2.806791 2.814956 2.806791 2.810848 2.814956 2.810846 2.810848\n",
      " 2.810846 2.810799 2.810848 2.806791 2.814956 2.806791 2.810848 2.814852\n",
      " 2.810799 2.806791 2.81485  2.810799 2.810848 2.806791 2.810846 2.810799\n",
      " 2.810848 2.814956 2.806898 2.814852 2.806798 2.810848 2.814956 2.806791]\n",
      "2.8107215135464\n"
     ]
    }
   ],
   "source": [
    "na_type    = 'RNA' # 'DNA' or 'RNA'\n",
    "helix_form = 'A' # 'B' or 'A' or 'Apr'\n",
    "bs_param   = 'avg' # 'avg' or 'seq'\n",
    "\n",
    "label      = 3\n",
    "\n",
    "rna_type_long = na_type + bs_param + helix_form\n",
    "\n",
    "bp_flat    = False # True or False\n",
    "\n",
    "helix_rna_6 = Helix(sequence_6, rna_type_long, label, True)\n",
    "helix_rna_3 = Helix(sequence_3, rna_type_long, label)\n",
    "if not bp_flat:\n",
    "    helix_rna_6.unflat()\n",
    "    helix_rna_3.unflat()\n",
    "    \n",
    "N_rna_6, O_rna_6, NO_rna_6, ON_rna_6, id_rna_6 = labels_dist(helix_rna_6)\n",
    "N_rna_3, O_rna_3, NO_rna_3, ON_rna_3, id_rna_3 = labels_dist(helix_rna_3)"
   ]
  },
  {
   "cell_type": "code",
   "execution_count": 10,
   "id": "4ad74bf4",
   "metadata": {},
   "outputs": [
    {
     "data": {
      "image/png": "[encoded data removed]",
      "text/plain": [
       "<Figure size 432x288 with 1 Axes>"
      ]
     },
     "metadata": {
      "needs_background": "light"
     },
     "output_type": "display_data"
    }
   ],
   "source": [
    "plt.axes().xaxis.set_major_locator(MaxNLocator(integer=True))\n",
    "\n",
    "plt.plot(exp_id_rna_long,exp_dist_rna_long,'--ks',label=\"PELDOR\")\n",
    "\n",
    "plt.plot(id_rna_6,N_rna_6,'bo',label='N-N')\n",
    "plt.plot(id_rna_6,O_rna_6,'ro',label='O-O')\n",
    "plt.plot(id_rna_6,NO_rna_6,'co',label='N-O')\n",
    "plt.plot(id_rna_6,ON_rna_6,'go',label='O-N')\n",
    "plt.plot(id_rna_3,N_rna_3,'bv')\n",
    "plt.plot(id_rna_3,O_rna_3,'rv')\n",
    "plt.plot(id_rna_3,NO_rna_3,'cv')\n",
    "plt.plot(id_rna_3,ON_rna_3,'gv')\n",
    "\n",
    "plt.xlabel(\"$\\Delta$ base pair\")\n",
    "plt.ylabel(\"Distance [A]\")\n",
    "title = f\"{helix_form}-{na_type}, Label:{label},  Flat:{bp_flat}\"\n",
    "plt.title(title)\n",
    "plt.ylim(15,90)\n",
    "\n",
    "plt.legend(frameon=False,loc=2);"
   ]
  },
  {
   "cell_type": "code",
   "execution_count": null,
   "id": "73741fea",
   "metadata": {},
   "outputs": [],
   "source": [
    "pdb_file = 'helix_rna.pdb'\n",
    "helix_rna_6.write_pdb(pdb_file)\n",
    "helix_rna_6.write_axis_pdb()\n",
    "helix_rna_6.write_center_pdb()\n",
    "\n",
    "#First we assign the py3Dmol.view as view\n",
    "view = py3Dmol.view()\n",
    "#read the PDB file\n",
    "view.addModel(open('pdbs/' + pdb_file, 'r').read(),'pdb')\n",
    "view.addModel(open('pdbs/axis.pdb', 'r').read(),'pdb')\n",
    "view.addModel(open('pdbs/center.pdb', 'r').read(),'pdb')\n",
    "\n",
    "#Here we set the visualization style\n",
    "view.setStyle({'stick': {'color':'spectrum'}})\n",
    "#view.setStyle({'sphere': {'color':'spectrum'}})\n",
    "\n",
    "#Zooming into all visualized structures \n",
    "view.zoomTo()\n",
    "#And we finally visualize the structures using the command below\n",
    "view.show()"
   ]
  },
  {
   "cell_type": "markdown",
   "id": "7d3cbd7c",
   "metadata": {},
   "source": [
    "## C. dsRNA of Max"
   ]
  },
  {
   "cell_type": "code",
   "execution_count": 11,
   "id": "c9e0ed9b",
   "metadata": {},
   "outputs": [
    {
     "name": "stdout",
     "output_type": "stream",
     "text": [
      "[2.806791 2.810848 2.814852 2.810799 2.806791 2.810848 2.814956 2.806898\n",
      " 2.814956 2.806898 2.814956 2.806898 2.814956 2.806898 2.814956 2.806898\n",
      " 2.814852 2.806798 2.810848]\n",
      "2.8106683567989488\n"
     ]
    }
   ],
   "source": [
    "na_type    = 'RNA' # 'DNA' or 'RNA'\n",
    "helix_form = 'A' # 'B' or 'A' or 'Apr'\n",
    "bs_param   = 'avg' # 'avg' or 'seq'\n",
    "\n",
    "label      = 1\n",
    "\n",
    "rna_type = na_type + bs_param + helix_form\n",
    "\n",
    "bp_flat    = False # True or False\n",
    "\n",
    "helix_rna_evn = Helix(sequence_evn_rna, rna_type, label, True)\n",
    "helix_rna_odd = Helix(sequence_odd_rna, rna_type, label, False)\n",
    "if not bp_flat:\n",
    "    helix_rna_evn.unflat()\n",
    "    helix_rna_odd.unflat()\n",
    "    \n",
    "evn_NN_rna, evn_OO_rna, evn_NO_rna, evn_ON_rna, evn_id_rna = labels_dist(helix_rna_evn)\n",
    "odd_NN_rna, odd_OO_rna, odd_NO_rna, odd_ON_rna, odd_id_rna = labels_dist(helix_rna_odd)"
   ]
  },
  {
   "cell_type": "code",
   "execution_count": 12,
   "id": "a952c819",
   "metadata": {},
   "outputs": [
    {
     "data": {
      "image/png": "[encoded data removed]",
      "text/plain": [
       "<Figure size 432x288 with 1 Axes>"
      ]
     },
     "metadata": {
      "needs_background": "light"
     },
     "output_type": "display_data"
    }
   ],
   "source": [
    "plt.plot(exp_id_rna,exp_dist_rna,'--ks',label=\"PELDOR\")\n",
    "\n",
    "plt.plot(evn_id_rna,evn_NN_rna,'bo',label='N-N')\n",
    "plt.plot(evn_id_rna,evn_OO_rna,'ro',label='O-O')\n",
    "plt.plot(evn_id_rna,evn_NO_rna,'co',label='N-O')\n",
    "plt.plot(evn_id_rna,evn_ON_rna,'go',label='O-N')\n",
    "plt.plot(odd_id_rna,odd_NN_rna,'bo')\n",
    "plt.plot(odd_id_rna,odd_OO_rna,'ro')\n",
    "plt.plot(odd_id_rna,odd_NO_rna,'co')\n",
    "plt.plot(odd_id_rna,odd_ON_rna,'go')\n",
    "\n",
    "plt.plot(exp_id_rna_2,exp_dist_rna_2,'^k', label=\"C-dot\")\n",
    "plt.xlabel(\"$\\Delta$ base pair\")\n",
    "plt.ylabel(\"Distance [A]\")\n",
    "title = f\"{helix_form}-{na_type}, Label:{label},  Flat:{bp_flat}\"\n",
    "plt.title(title)\n",
    "plt.ylim(15,50)\n",
    "plt.legend(frameon=False,loc=2);"
   ]
  },
  {
   "cell_type": "code",
   "execution_count": null,
   "id": "6355c1cd",
   "metadata": {},
   "outputs": [],
   "source": [
    "pdb_file = 'helix_rna_evn.pdb'\n",
    "helix_rna_evn.write_pdb(pdb_file)\n",
    "helix_rna_evn.write_axis_pdb()\n",
    "helix_rna_evn.write_center_pdb()\n",
    "\n",
    "#First we assign the py3Dmol.view as view\n",
    "view = py3Dmol.view()\n",
    "#read the PDB file\n",
    "view.addModel(open('pdbs/' + pdb_file, 'r').read(),'pdb')\n",
    "view.addModel(open('pdbs/axis.pdb', 'r').read(),'pdb')\n",
    "view.addModel(open('pdbs/center.pdb', 'r').read(),'pdb')\n",
    "\n",
    "#Here we set the visualization style\n",
    "view.setStyle({'stick': {'color':'spectrum'}})\n",
    "#view.setStyle({'sphere': {'color':'spectrum'}})\n",
    "\n",
    "#Zooming into all visualized structures \n",
    "view.zoomTo()\n",
    "#And we finally visualize the structures using the command below\n",
    "view.show()"
   ]
  },
  {
   "cell_type": "markdown",
   "id": "f638fe9d",
   "metadata": {},
   "source": [
    "# 2. Vibrational anlaysis of an elastic network model"
   ]
  },
  {
   "cell_type": "code",
   "execution_count": 13,
   "id": "8af5a226",
   "metadata": {},
   "outputs": [],
   "source": [
    "from utils_anm import ANM_analysis, write_pdb_modes\n",
    "import numpy as np"
   ]
  },
  {
   "cell_type": "code",
   "execution_count": null,
   "id": "6e57741c",
   "metadata": {},
   "outputs": [],
   "source": [
    "# clear contents of scratch directory \n",
    "! rm pdbs/*.*"
   ]
  },
  {
   "cell_type": "markdown",
   "id": "934cfeb4",
   "metadata": {},
   "source": [
    "## A. dsDNA"
   ]
  },
  {
   "cell_type": "code",
   "execution_count": 14,
   "id": "78401424",
   "metadata": {},
   "outputs": [],
   "source": [
    "n_low = 5\n",
    "scale = 0.1"
   ]
  },
  {
   "cell_type": "markdown",
   "id": "88aeaddb",
   "metadata": {},
   "source": [
    "### Even sequence"
   ]
  },
  {
   "cell_type": "code",
   "execution_count": null,
   "id": "c8ffea84",
   "metadata": {},
   "outputs": [],
   "source": [
    "enm_helix = helix_dna_evn"
   ]
  },
  {
   "cell_type": "code",
   "execution_count": null,
   "id": "fe3bc50b",
   "metadata": {},
   "outputs": [],
   "source": [
    "eVals, eVecs = ANM_analysis(enm_helix, n_low, pdb='dna', verbose=True)"
   ]
  },
  {
   "cell_type": "code",
   "execution_count": null,
   "id": "e3b6f03b",
   "metadata": {},
   "outputs": [],
   "source": [
    "NN_all, OO_all, NO_all, ON_all, idx_evn = write_pdb_modes('dna', enm_helix, \n",
    "                                                          eVecs, eVals, \n",
    "                                                          n_models=21, scale=scale)\n",
    "dist_evn = np.concatenate([NN_all,OO_all,NO_all,ON_all],axis=1)\n",
    "dist_evn.shape"
   ]
  },
  {
   "cell_type": "code",
   "execution_count": null,
   "id": "672d836f",
   "metadata": {},
   "outputs": [],
   "source": [
    "mode = 1\n",
    "\n",
    "pdb_file = 'pdbs/dna_mode' + str(mode) + '.pdb'\n",
    "\n",
    "with open(pdb_file) as ifile:\n",
    "    system = \"\".join([x for x in ifile])\n",
    "    \n",
    "#view = py3Dmol.view(width=400, height=300)\n",
    "view = py3Dmol.view()\n",
    "view.addModelsAsFrames(system)\n",
    "view.setStyle({'model': -1}, {\"stick\": {'color': 'spectrum'}})\n",
    "#view.zoomTo()\n",
    "#view.animate({'loop': \"forward\"})\n",
    "view.animate({'loop': \"backAndForth\"})\n",
    "view.zoomTo()\n",
    "view.show()    "
   ]
  },
  {
   "cell_type": "markdown",
   "id": "f87910ec",
   "metadata": {},
   "source": [
    "### Odd sequence"
   ]
  },
  {
   "cell_type": "code",
   "execution_count": null,
   "id": "2c2ddb2a",
   "metadata": {},
   "outputs": [],
   "source": [
    "enm_helix = helix_dna_odd\n",
    "\n",
    "#enm_helix.write_nodes_pdb('dna')\n",
    "eVals, eVecs = ANM_analysis(enm_helix, n_low, pdb=None, verbose=True)\n",
    "\n",
    "NN_all, OO_all, NO_all, ON_all, idx_odd = write_pdb_modes('dna', enm_helix, \n",
    "                                                          eVecs, eVals, \n",
    "                                                          n_models=21, scale=scale)\n",
    "dist_odd = np.concatenate([NN_all,OO_all,NO_all,ON_all],axis=1)\n",
    "dist_odd.shape"
   ]
  },
  {
   "cell_type": "code",
   "execution_count": null,
   "id": "d4794506",
   "metadata": {},
   "outputs": [],
   "source": [
    "dist_modes = np.concatenate([dist_evn,dist_odd],axis=-1)\n",
    "idx_all = np.concatenate([idx_evn,idx_odd],axis=-1)\n",
    "dist_modes.shape"
   ]
  },
  {
   "cell_type": "code",
   "execution_count": null,
   "id": "78506947",
   "metadata": {},
   "outputs": [],
   "source": [
    "dist_all = np.concatenate([dist_modes[0],dist_modes[1],\n",
    "                           dist_modes[2],dist_modes[3],dist_modes[4]],\n",
    "                          axis=0)\n",
    "dist_all.shape"
   ]
  },
  {
   "cell_type": "code",
   "execution_count": null,
   "id": "6da98435",
   "metadata": {},
   "outputs": [],
   "source": [
    "import pandas as pd\n",
    "import seaborn as sns\n",
    "from scipy.stats import norm, expon, cauchy"
   ]
  },
  {
   "cell_type": "code",
   "execution_count": null,
   "id": "384c15fd",
   "metadata": {},
   "outputs": [],
   "source": [
    "sns.set(style=\"white\")\n",
    "f, ax = plt.subplots(1,1,figsize=(12,8))\n",
    "\n",
    "df_dist = pd.DataFrame(\n",
    "        data = dist_all,\n",
    "        columns = idx_all\n",
    "    )\n",
    "\n",
    "sns.histplot(data=df_dist, element=\"poly\", binwidth=.33, kde=False, stat='probability');"
   ]
  },
  {
   "cell_type": "code",
   "execution_count": null,
   "id": "6bec566f",
   "metadata": {},
   "outputs": [],
   "source": [
    "sns.set(style=\"white\")\n",
    "#df_NN.plot.hist(subplots=True, legend=False, layout=(1, 4));\n",
    "f, axes = plt.subplots(n_low,1,figsize=(10,15))\n",
    "for l in range(n_low):\n",
    "    df_dist = pd.DataFrame(\n",
    "        data = dist_modes[l],\n",
    "        columns = idx_all\n",
    "    )    \n",
    "    sns.histplot(data=df_dist, binwidth=0.5, stat='probability',element=\"poly\",kde=False,ax=axes[l])\n",
    "\n",
    "for ax in axes:\n",
    "    ax.legend([],[], frameon=False)\n",
    "    #ax.set_ylim(0,100)"
   ]
  },
  {
   "cell_type": "markdown",
   "id": "aa1b9788",
   "metadata": {},
   "source": [
    "## B. dsRNA  of Halbmair"
   ]
  },
  {
   "cell_type": "code",
   "execution_count": null,
   "id": "88c8b898",
   "metadata": {},
   "outputs": [],
   "source": [
    "enm_helix = helix_rna_6\n",
    "\n",
    "eVals, eVecs = ANM_analysis(enm_helix, n_low, pdb='rna', verbose=True)\n",
    "\n",
    "NN_all, OO_all, NO_all, ON_all, idx_6 = write_pdb_modes('rna_6', enm_helix, \n",
    "                                                          eVecs, eVals, \n",
    "                                                          n_models=21, scale=scale)\n",
    "dist_6 = np.concatenate([NN_all,OO_all,NO_all,ON_all],axis=1)\n",
    "dist_6.shape"
   ]
  },
  {
   "cell_type": "code",
   "execution_count": null,
   "id": "31bedf7f",
   "metadata": {},
   "outputs": [],
   "source": [
    "mode = 3\n",
    "\n",
    "pdb_file = 'pdbs/rna_6_mode' + str(mode) + '.pdb'\n",
    "\n",
    "with open(pdb_file) as ifile:\n",
    "    system = \"\".join([x for x in ifile])\n",
    "    \n",
    "#view = py3Dmol.view(width=400, height=300)\n",
    "view = py3Dmol.view()\n",
    "view.addModelsAsFrames(system)\n",
    "view.setStyle({'model': -1}, {\"stick\": {'color': 'spectrum'}})\n",
    "#view.zoomTo()\n",
    "#view.animate({'loop': \"forward\"})\n",
    "view.animate({'loop': \"backAndForth\"})\n",
    "view.zoomTo()\n",
    "view.show()  "
   ]
  },
  {
   "cell_type": "code",
   "execution_count": null,
   "id": "8abf3d30",
   "metadata": {},
   "outputs": [],
   "source": [
    "enm_helix = helix_rna_3\n",
    "\n",
    "eVals, eVecs = ANM_analysis(enm_helix, n_low, pdb=None, verbose=True)\n",
    "\n",
    "NN_all, OO_all, NO_all, ON_all, idx_3 = write_pdb_modes('rna_3', enm_helix, \n",
    "                                                          eVecs, eVals, \n",
    "                                                          n_models=21, scale=scale)\n",
    "dist_3 = np.concatenate([NN_all,OO_all,NO_all,ON_all],axis=1)\n",
    "dist_3.shape"
   ]
  },
  {
   "cell_type": "code",
   "execution_count": null,
   "id": "06d0f960",
   "metadata": {},
   "outputs": [],
   "source": [
    "dist_modes = np.concatenate([dist_6,dist_3],axis=-1)\n",
    "idx_all = np.concatenate([idx_6,idx_3],axis=-1)\n",
    "dist_modes.shape\n",
    "\n",
    "dist_all = np.concatenate([dist_modes[0],dist_modes[1],\n",
    "                           dist_modes[2]],axis=0)\n",
    "dist_all.shape"
   ]
  },
  {
   "cell_type": "code",
   "execution_count": null,
   "id": "8da6ab5a",
   "metadata": {},
   "outputs": [],
   "source": [
    "sns.set(style=\"white\")\n",
    "f, ax = plt.subplots(1,1,figsize=(12,8))\n",
    "\n",
    "df_dist = pd.DataFrame(\n",
    "        data = dist_all,\n",
    "        columns = idx_all\n",
    "    )\n",
    "\n",
    "sns.histplot(data=df_dist, element=\"poly\", binwidth=.33, kde=False);\n",
    "#ax.legend([],[], frameon=False)"
   ]
  },
  {
   "cell_type": "markdown",
   "id": "5fefc52d",
   "metadata": {},
   "source": [
    "### Get Euler angles between each spin label and the first one"
   ]
  },
  {
   "cell_type": "code",
   "execution_count": null,
   "id": "6394c088",
   "metadata": {},
   "outputs": [],
   "source": [
    "#from utils_peldor import labels_orientation\n",
    "#from scipy.spatial.transform import Rotation as R"
   ]
  },
  {
   "cell_type": "code",
   "execution_count": null,
   "id": "2c11d800",
   "metadata": {},
   "outputs": [],
   "source": [
    "#rots, odd_id_rna = labels_orientation(helix_rna_odd)\n",
    "#for i in range(len(odd_id_rna)):\n",
    "#    r = R.from_matrix(rots[i])\n",
    "#    print(r.as_euler('zyx', degrees=True))"
   ]
  }
 ],
 "metadata": {
  "kernelspec": {
   "display_name": "Python 3 (ipykernel)",
   "language": "python",
   "name": "python3"
  },
  "language_info": {
   "codemirror_mode": {
    "name": "ipython",
    "version": 3
   },
   "file_extension": ".py",
   "mimetype": "text/x-python",
   "name": "python",
   "nbconvert_exporter": "python",
   "pygments_lexer": "ipython3",
   "version": "3.9.1"
  }
 },
 "nbformat": 4,
 "nbformat_minor": 5
}
